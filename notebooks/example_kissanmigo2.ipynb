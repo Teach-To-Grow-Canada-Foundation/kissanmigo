{
 "cells": [
  {
   "cell_type": "code",
   "execution_count": 1,
   "metadata": {},
   "outputs": [],
   "source": [
    "from example_agents import KissanMigo\n",
    "from example_tools import S2SearchTool, AddPlantSeasonTool, AddSpeciesTool, AddVarietyTool, AddVegetationBedTool\n",
    "from example_tools import AddUserTool, AddPlotTool, AddPlotSeasonTool, FetchPolygonWkt, S2SearchDbTool\n",
    "from langchain.llms import OpenAI\n",
    "from example_agents.config import config\n",
    "from steamship import Steamship\n",
    "import geopandas as gpd\n",
    "client = Steamship()\n",
    "OPENAI_KEY = config()"
   ]
  },
  {
   "cell_type": "code",
   "execution_count": 2,
   "metadata": {},
   "outputs": [],
   "source": [
    "gdf = gpd.read_file('./europe_110.geojson')"
   ]
  },
  {
   "cell_type": "code",
   "execution_count": 3,
   "metadata": {},
   "outputs": [
    {
     "data": {
      "text/plain": [
       "<Axes: >"
      ]
     },
     "execution_count": 3,
     "metadata": {},
     "output_type": "execute_result"
    },
    {
     "data": {
      "image/png": "[encoded data removed]",
      "text/plain": [
       "<Figure size 640x480 with 1 Axes>"
      ]
     },
     "metadata": {},
     "output_type": "display_data"
    }
   ],
   "source": [
    "gdf.plot()"
   ]
  },
  {
   "cell_type": "code",
   "execution_count": 15,
   "metadata": {},
   "outputs": [
    {
     "data": {
      "image/svg+xml": [
       "<svg xmlns=\"http://www.w3.org/2000/svg\" xmlns:xlink=\"http://www.w3.org/1999/xlink\" width=\"100.0\" height=\"100.0\" viewBox=\"13.427635532289855 42.25065135351798 6.192180175806072 4.482439575213164\" preserveAspectRatio=\"xMinYMin meet\"><g transform=\"matrix(1,0,0,-1,0,88.98374228224912)\"><path fill-rule=\"evenodd\" fill=\"#66cc99\" stroke=\"#555555\" stroke-width=\"0.12384360351612145\" opacity=\"0.6\" d=\"M 18.829838087650046,45.908877671891844 L 19.072768995854176,45.52151113543209 L 19.39047570158459,45.236515611342384 L 19.00548628101012,44.86023366960916 L 18.553214145591653,45.08158966733146 L 17.861783481526402,45.067740383477144 L 17.002146030351014,45.23377676043094 L 16.534939406000206,45.21160757097772 L 16.318156772535872,45.00412669532591 L 15.959367303133376,45.23377676043094 L 15.750026075918981,44.818711656262565 L 16.23966027188453,44.35114329688571 L 16.456442905348865,44.04123973243128 L 16.91615644701733,43.66772247982567 L 17.297373488034452,43.44634064388737 L 17.674921502358984,43.02856252702361 L 18.56,42.65 L 18.450016310304818,42.47999136002932 L 17.509970330483327,42.849994615239154 L 16.930005730871642,43.20999848080038 L 16.015384555737683,43.50721548112722 L 15.174453973052096,44.243191229827914 L 15.376250441151797,44.31791535092208 L 14.92030927904051,44.73848399512946 L 14.901602410550879,45.07606028907611 L 14.258747592839995,45.23377676043094 L 13.952254672917036,44.80212352149687 L 13.656975538801191,45.13693512631596 L 13.67940311041582,45.48414907488501 L 13.715059848697251,45.500323798192426 L 14.4119682145855,45.46616567644742 L 14.59510949062792,45.63494090431283 L 14.935243767972963,45.471695054702764 L 15.327674594797429,45.45231639259333 L 15.323953891672431,45.731782538427694 L 15.671529575267641,45.83415355079791 L 15.768732944408612,46.23810822202353 L 16.564808383864943,46.50375092221981 L 16.882515089595415,46.38063182228444 L 17.630066359129557,45.9517691106941 L 18.45606245288286,45.75948110613615 L 18.829838087650046,45.908877671891844 z\" /></g></svg>"
      ],
      "text/plain": [
       "<POLYGON ((18.83 45.909, 19.073 45.522, 19.39 45.237, 19.005 44.86, 18.553 4...>"
      ]
     },
     "execution_count": 15,
     "metadata": {},
     "output_type": "execute_result"
    }
   ],
   "source": [
    "gdf.geometry[16]"
   ]
  },
  {
   "cell_type": "code",
   "execution_count": 16,
   "metadata": {},
   "outputs": [
    {
     "data": {
      "text/plain": [
       "'POLYGON ((18.829838087650046 45.908877671891844, 19.00548628101012 44.86023366960916, 15.750026075918981 44.818711656262565, 18.450016310304818 42.47999136002932, 13.656975538801191 45.13693512631596, 16.564808383864943 46.50375092221981, 18.829838087650046 45.908877671891844))'"
      ]
     },
     "execution_count": 16,
     "metadata": {},
     "output_type": "execute_result"
    }
   ],
   "source": [
    "gdf.geometry[16].simplify(tolerance=0.9).wkt"
   ]
  },
  {
   "cell_type": "code",
   "execution_count": 11,
   "metadata": {},
   "outputs": [],
   "source": [
    "llm = OpenAI(client=client, openai_api_key=OPENAI_KEY, model='text-davinci-003', temperature=0)\n",
    "\n",
    "tools = [S2SearchTool(), AddUserTool(), AddPlotTool(), AddVegetationBedTool(), \n",
    "         AddPlotSeasonTool(), AddPlantSeasonTool(),\n",
    "         AddSpeciesTool(), AddVarietyTool(), FetchPolygonWkt(), S2SearchDbTool()]"
   ]
  },
  {
   "cell_type": "code",
   "execution_count": 12,
   "metadata": {},
   "outputs": [],
   "source": [
    "kissanmigo = KissanMigo(tools, llm,  max_execution_time=1, early_stopping_method=\"generate\")"
   ]
  },
  {
   "cell_type": "code",
   "execution_count": 13,
   "metadata": {},
   "outputs": [
    {
     "name": "stdout",
     "output_type": "stream",
     "text": [
      "\n",
      "\n",
      "\u001b[1m> Entering new  chain...\u001b[0m\n",
      "\u001b[32;1m\u001b[1;3mAction:\n",
      "```\n",
      "{\n",
      "  \"action\": \"Final Answer\",\n",
      "  \"action_input\": \"I am a bot designed to help you with your farming needs.\"\n",
      "}\n",
      "```\n",
      "\u001b[0m\n",
      "\n",
      "\u001b[1m> Finished chain.\u001b[0m\n"
     ]
    },
    {
     "data": {
      "text/plain": [
       "'I am a bot designed to help you with your farming needs.'"
      ]
     },
     "execution_count": 13,
     "metadata": {},
     "output_type": "execute_result"
    }
   ],
   "source": [
    "prompt = \"who are you?\"\n",
    "kissanmigo.agent.run(prompt)"
   ]
  },
  {
   "cell_type": "code",
   "execution_count": 16,
   "metadata": {},
   "outputs": [
    {
     "name": "stdout",
     "output_type": "stream",
     "text": [
      "Respond to the human as helpfully and accurately as possible. You have access to the following tools:\n",
      "\n",
      "s2_image: don't use this for plots in the database.                   use this tool when you need to return a vegetation index map from sentinel2 satellite imagery.                    the user needs to give you a Polygon or MultiPolygon of their farm or plot and a range of dates.                    , args: {{{{'polygon': {{{{'title': 'Polygon', 'type': 'string'}}}}, 'vi': {{{{'title': 'Vi', 'type': 'string'}}}}, 'start_date': {{{{'title': 'Start Date', 'type': 'string'}}}}, 'end_date': {{{{'title': 'End Date', 'type': 'string'}}}}}}}}\n",
      "add_user: use this tool when you need to add a user to the database.                   You should ask the user for his full name and email. After adding the user you should                     tell them that they can now add a plot or a vegetation bed., args: {{{{'full_name': {{{{'title': 'Full Name', 'type': 'string'}}}}, 'email': {{{{'title': 'Email', 'type': 'string'}}}}}}}}\n",
      "add_plot: use this tool when you need to add a plot to the database using a user email.                   you should ask the user for their email.                   you should add a user to the database only if their email is not in the database.                   Don't add the user again if their email is already in the database., args: {{{{'name': {{{{'title': 'Name', 'type': 'string'}}}}, 'delimitation': {{{{'title': 'Delimitation', 'type': 'string'}}}}, 'email': {{{{'title': 'Email', 'type': 'string'}}}}}}}}\n",
      "add_veg_bed: use this tool when you need to add a veg_bed to the database.                   you should ask the user for their email.                   you should add a user to the database only if their email is not in the database.                   Don't add the user again if their email is already in the database., args: {{{{'name': {{{{'title': 'Name', 'type': 'string'}}}}, 'delimitation': {{{{'title': 'Delimitation', 'type': 'string'}}}}, 'email': {{{{'title': 'Email', 'type': 'string'}}}}}}}}\n",
      "add_plot_season: use this tool when you need to add a plot season to the database.                     The plot should already exist.                    Ask the user if they want to add the plot if you can't find it., args: {{{{'start_date': {{{{'title': 'Start Date', 'type': 'string'}}}}, 'end_date': {{{{'title': 'End Date', 'type': 'string'}}}}, 'variety_name': {{{{'title': 'Variety Name', 'type': 'string'}}}}, 'plot_name': {{{{'title': 'Plot Name', 'type': 'string'}}}}, 'email': {{{{'title': 'Email', 'type': 'string'}}}}}}}}\n",
      "add_plant_season: use this tool when you need to add the plant season to the database.                    The vegetation bed should already exist.                    Ask the user if they want to add the vegetation bed if you can't find it. , args: {{{{'start_date': {{{{'title': 'Start Date', 'type': 'string'}}}}, 'end_date': {{{{'title': 'End Date', 'type': 'string'}}}}, 'position': {{{{'title': 'Position', 'type': 'string'}}}}, 'variety_name': {{{{'title': 'Variety Name', 'type': 'string'}}}}, 'veg_bed_name': {{{{'title': 'Veg Bed Name', 'type': 'string'}}}}, 'email': {{{{'title': 'Email', 'type': 'string'}}}}}}}}\n",
      "add_species: use this tool when you need to add species to the database.                   Check if the species already exist before adding them., args: {{{{'name': {{{{'title': 'Name', 'type': 'string'}}}}}}}}\n",
      "add_variety: use this tool to add varieties to the database.                   Check if the varieties already exist before adding them., args: {{{{'variety_name': {{{{'title': 'Variety Name', 'type': 'string'}}}}, 'species_name': {{{{'title': 'Species Name', 'type': 'string'}}}}}}}}\n",
      "polygon_wkt: use this tool when you want to convert polygons in the database to text format., args: {{{{'name': {{{{'title': 'Name', 'type': 'string'}}}}, 'user_email': {{{{'title': 'User Email', 'type': 'string'}}}}}}}}\n",
      "database_s2_image: use this tool when you need to look for a plot in the database and return a vegetation index map                     from sentinel2 satellite imagery.                    the user provides an email address.                   check the database for wkt format of the polygon using the plot name.                    a date range should be provided., args: {{{{'plot_name': {{{{'title': 'Plot Name', 'type': 'string'}}}}, 'user_email': {{{{'title': 'User Email', 'type': 'string'}}}}, 'vi': {{{{'title': 'Vi', 'type': 'string'}}}}, 'start_date': {{{{'title': 'Start Date', 'type': 'string'}}}}, 'end_date': {{{{'title': 'End Date', 'type': 'string'}}}}}}}}\n",
      "\n",
      "Use a json blob to specify a tool by providing an action key (tool name) and an action_input key (tool input).\n",
      "\n",
      "Valid \"action\" values: \"Final Answer\" or s2_image, add_user, add_plot, add_veg_bed, add_plot_season, add_plant_season, add_species, add_variety, polygon_wkt, database_s2_image\n",
      "\n",
      "Provide only ONE action per $JSON_BLOB, as shown:\n",
      "\n",
      "```\n",
      "{{\n",
      "  \"action\": $TOOL_NAME,\n",
      "  \"action_input\": $INPUT\n",
      "}}\n",
      "```\n",
      "\n",
      "Follow this format:\n",
      "\n",
      "Question: input question to answer\n",
      "Thought: consider previous and subsequent steps\n",
      "Action:\n",
      "```\n",
      "$JSON_BLOB\n",
      "```\n",
      "Observation: action result\n",
      "... (repeat Thought/Action/Observation N times)\n",
      "Thought: I know what to respond\n",
      "Action:\n",
      "```\n",
      "{{\n",
      "  \"action\": \"Final Answer\",\n",
      "  \"action_input\": \"Final response to human\"\n",
      "}}\n",
      "```\n",
      "\n",
      "Begin! Reminder to ALWAYS respond with a valid json blob of a single action. Use tools if necessary. Respond directly if appropriate. Format is Action:```$JSON_BLOB```then Observation:.\n",
      "Thought:\n"
     ]
    }
   ],
   "source": [
    "print(kissanmigo.agent.agent.llm_chain.prompt.messages[0].prompt.template)"
   ]
  },
  {
   "cell_type": "code",
   "execution_count": 17,
   "metadata": {},
   "outputs": [
    {
     "name": "stdout",
     "output_type": "stream",
     "text": [
      "\n",
      "\n",
      "\u001b[1m> Entering new  chain...\u001b[0m\n",
      "\u001b[32;1m\u001b[1;3mAction:\n",
      "```\n",
      "{\n",
      "  \"action\": \"Final Answer\",\n",
      "  \"action_input\": \"To use me, you can ask me questions about the database and I can help you with tasks such as adding users, plots, vegetation beds, and species. I can also help you with tasks such as returning vegetation index maps from Sentinel2 satellite imagery.\"\n",
      "}\n",
      "```\n",
      "\u001b[0m\n",
      "\n",
      "\u001b[1m> Finished chain.\u001b[0m\n"
     ]
    },
    {
     "data": {
      "text/plain": [
       "'To use me, you can ask me questions about the database and I can help you with tasks such as adding users, plots, vegetation beds, and species. I can also help you with tasks such as returning vegetation index maps from Sentinel2 satellite imagery.'"
      ]
     },
     "execution_count": 17,
     "metadata": {},
     "output_type": "execute_result"
    }
   ],
   "source": [
    "prompt = \"what should I do to use you?\"\n",
    "kissanmigo.agent.run(prompt)"
   ]
  },
  {
   "cell_type": "code",
   "execution_count": 18,
   "metadata": {},
   "outputs": [
    {
     "name": "stdout",
     "output_type": "stream",
     "text": [
      "\n",
      "\n",
      "\u001b[1m> Entering new  chain...\u001b[0m\n",
      "\u001b[32;1m\u001b[1;3mAction:\n",
      "```\n",
      "{\n",
      "  \"action\": \"Final Answer\",\n",
      "  \"action_input\": \"I can help you with adding users, plots, vegetation beds, plot seasons, plant seasons, species, varieties, and converting polygons to text format.\"\n",
      "}\n",
      "```\n",
      "\u001b[0m\n",
      "\n",
      "\u001b[1m> Finished chain.\u001b[0m\n"
     ]
    },
    {
     "data": {
      "text/plain": [
       "'I can help you with adding users, plots, vegetation beds, plot seasons, plant seasons, species, varieties, and converting polygons to text format.'"
      ]
     },
     "execution_count": 18,
     "metadata": {},
     "output_type": "execute_result"
    }
   ],
   "source": [
    "prompt = \"state all the things you can help me with\"\n",
    "kissanmigo.agent.run(prompt)"
   ]
  },
  {
   "cell_type": "code",
   "execution_count": 19,
   "metadata": {},
   "outputs": [
    {
     "name": "stdout",
     "output_type": "stream",
     "text": [
      "\n",
      "\n",
      "\u001b[1m> Entering new  chain...\u001b[0m\n",
      "\u001b[32;1m\u001b[1;3mAction:\n",
      "```\n",
      "{\n",
      "  \"action\": \"Final Answer\",\n",
      "  \"action_input\": \"I can provide you with tools to add users, plots, vegetation beds, plot seasons, plant seasons, species, and varieties to the database. I can also provide you with tools to convert polygons in the database to text format and to return a vegetation index map from sentinel2 satellite imagery.\"\n",
      "}\n",
      "```\n",
      "\u001b[0m\n",
      "\n",
      "\u001b[1m> Finished chain.\u001b[0m\n"
     ]
    },
    {
     "data": {
      "text/plain": [
       "'I can provide you with tools to add users, plots, vegetation beds, plot seasons, plant seasons, species, and varieties to the database. I can also provide you with tools to convert polygons in the database to text format and to return a vegetation index map from sentinel2 satellite imagery.'"
      ]
     },
     "execution_count": 19,
     "metadata": {},
     "output_type": "execute_result"
    }
   ],
   "source": [
    "prompt = \"state all the things you can provide\"\n",
    "kissanmigo.agent.run(prompt)"
   ]
  },
  {
   "attachments": {},
   "cell_type": "markdown",
   "metadata": {},
   "source": [
    "<h1>Add a user</h1>"
   ]
  },
  {
   "cell_type": "code",
   "execution_count": 14,
   "metadata": {},
   "outputs": [
    {
     "name": "stdout",
     "output_type": "stream",
     "text": [
      "\n",
      "\n",
      "\u001b[1m> Entering new  chain...\u001b[0m\n",
      "\u001b[32;1m\u001b[1;3m\n",
      "Action:\n",
      "```\n",
      "{\n",
      "  \"action\": \"add_user\",\n",
      "  \"action_input\": {\n",
      "    \"full_name\": \"test2\",\n",
      "    \"email\": \"test2@test.com\"\n",
      "  }\n",
      "}\n",
      "```\n",
      "\u001b[0m\n",
      "Observation: \u001b[33;1m\u001b[1;3mNone\u001b[0m\n",
      "Thought:\u001b[32;1m\u001b[1;3m\n",
      "\n",
      "Action:\n",
      "```\n",
      "{\n",
      "  \"action\": \"Final Answer\",\n",
      "  \"action_input\": \"I have added you to the database. You can now add a plot or a vegetation bed.\"\n",
      "}\n",
      "```\n",
      "\n",
      "\u001b[0m\n",
      "\n",
      "\u001b[1m> Finished chain.\u001b[0m\n"
     ]
    },
    {
     "data": {
      "text/plain": [
       "'I have added you to the database. You can now add a plot or a vegetation bed.'"
      ]
     },
     "execution_count": 14,
     "metadata": {},
     "output_type": "execute_result"
    }
   ],
   "source": [
    "prompt = f\"HI can you add me to your users with name test2 and email test2@test.com\"\n",
    "kissanmigo.agent.run(prompt)"
   ]
  },
  {
   "cell_type": "markdown",
   "metadata": {},
   "source": [
    "<h1>Add a plot</h1>"
   ]
  },
  {
   "cell_type": "code",
   "execution_count": 17,
   "metadata": {},
   "outputs": [
    {
     "name": "stdout",
     "output_type": "stream",
     "text": [
      "\n",
      "\n",
      "\u001b[1m> Entering new  chain...\u001b[0m\n",
      "\u001b[32;1m\u001b[1;3m\n",
      "Action:\n",
      "```\n",
      "{\n",
      "  \"action\": \"add_plot\",\n",
      "  \"action_input\": {\n",
      "    \"name\": \"p13\",\n",
      "    \"delimitation\": \"POLYGON ((18.829838087650046 45.908877671891844, 19.00548628101012 44.86023366960916, 15.750026075918981 44.818711656262565, 18.450016310304818 42.47999136002932, 13.656975538801191 45.13693512631596, 16.564808383864943 46.50375092221981, 18.829838087650046 45.908877671891844))\",\n",
      "    \"email\": \"test2@test.com\"\n",
      "  }\n",
      "}\n",
      "```\n",
      "\n",
      "\u001b[0m\n",
      "Observation: \u001b[38;5;200m\u001b[1;3mNone\u001b[0m\n",
      "Thought:\u001b[32;1m\u001b[1;3m\n",
      "\n",
      "Action:\n",
      "```\n",
      "{\n",
      "  \"action\": \"Final Answer\",\n",
      "  \"action_input\": \"I have added the plot 'p13' to the database for the user test2@test.com. You can now add a plot season or a vegetation bed.\"\n",
      "}\n",
      "```\n",
      "\n",
      "\u001b[0m\n",
      "\n",
      "\u001b[1m> Finished chain.\u001b[0m\n"
     ]
    },
    {
     "data": {
      "text/plain": [
       "\"I have added the plot 'p13' to the database for the user test2@test.com. You can now add a plot season or a vegetation bed.\""
      ]
     },
     "execution_count": 17,
     "metadata": {},
     "output_type": "execute_result"
    }
   ],
   "source": [
    "plot = 'POLYGON ((18.829838087650046 45.908877671891844, 19.00548628101012 44.86023366960916, 15.750026075918981 44.818711656262565, 18.450016310304818 42.47999136002932, 13.656975538801191 45.13693512631596, 16.564808383864943 46.50375092221981, 18.829838087650046 45.908877671891844))'\n",
    "prompt = f\"can you add the following 'p13' {plot} to test2@test.com\"\n",
    "kissanmigo.agent.run(prompt)"
   ]
  },
  {
   "cell_type": "code",
   "execution_count": 18,
   "metadata": {},
   "outputs": [
    {
     "name": "stdout",
     "output_type": "stream",
     "text": [
      "\n",
      "\n",
      "\u001b[1m> Entering new  chain...\u001b[0m\n",
      "\u001b[32;1m\u001b[1;3m\n",
      "Action:\n",
      "```\n",
      "{\n",
      "  \"action\": \"database_s2_image\",\n",
      "  \"action_input\": {\n",
      "    \"plot_name\": \"farm\",\n",
      "    \"user_email\": \"ghizlan.astaoui@gmail.com\",\n",
      "    \"vi\": \"NDVI\",\n",
      "    \"start_date\": \"2023-05-01\",\n",
      "    \"end_date\": \"2023-06-01\"\n",
      "  }\n",
      "}\n",
      "```\n",
      "\n",
      "\u001b[0m"
     ]
    },
    {
     "data": {
      "image/png": "[encoded data removed]",
      "text/plain": [
       "<Figure size 640x480 with 2 Axes>"
      ]
     },
     "metadata": {},
     "output_type": "display_data"
    },
    {
     "name": "stdout",
     "output_type": "stream",
     "text": [
      "\n",
      "Observation: \u001b[36;1m\u001b[1;3mNone\u001b[0m\n",
      "Thought:\u001b[32;1m\u001b[1;3m\n",
      "\n",
      "Action:\n",
      "```\n",
      "{\n",
      "  \"action\": \"Final Answer\",\n",
      "  \"action_input\": \"I have generated a NDVI map for the farm of ghizlan.astaoui@gmail.com between 2023-05-01 and 2023-06-01.\"\n",
      "}\n",
      "```\n",
      "\n",
      "\u001b[0m\n",
      "\n",
      "\u001b[1m> Finished chain.\u001b[0m\n"
     ]
    },
    {
     "data": {
      "text/plain": [
       "'I have generated a NDVI map for the farm of ghizlan.astaoui@gmail.com between 2023-05-01 and 2023-06-01.'"
      ]
     },
     "execution_count": 18,
     "metadata": {},
     "output_type": "execute_result"
    }
   ],
   "source": [
    "kissanmigo.agent.run('generate NDVI map for \"farm\" of ghizlan.astaoui@gmail.com between 2023-05-01 and 2023-06-01')"
   ]
  },
  {
   "attachments": {},
   "cell_type": "markdown",
   "metadata": {},
   "source": [
    "<h1>Add a species and variety</h1>"
   ]
  },
  {
   "cell_type": "code",
   "execution_count": 23,
   "metadata": {},
   "outputs": [
    {
     "name": "stdout",
     "output_type": "stream",
     "text": [
      "\n",
      "\n",
      "\u001b[1m> Entering new  chain...\u001b[0m\n",
      "\u001b[32;1m\u001b[1;3mAction:\n",
      "```\n",
      "{\n",
      "  \"action\": \"add_species\",\n",
      "  \"action_input\": \"wheat\"\n",
      "}\n",
      "```\n",
      "\u001b[0m\n",
      "Observation: \u001b[36;1m\u001b[1;3mNone\u001b[0m\n",
      "Thought:\u001b[32;1m\u001b[1;3m\n",
      "\n",
      "Action:\n",
      "```\n",
      "{\n",
      "  \"action\": \"Final Answer\",\n",
      "  \"action_input\": \"Yes, I can add the wheat species to the database.\"\n",
      "}\n",
      "```\n",
      "\n",
      "\u001b[0m\n",
      "\n",
      "\u001b[1m> Finished chain.\u001b[0m\n"
     ]
    },
    {
     "data": {
      "text/plain": [
       "'Yes, I can add the wheat species to the database.'"
      ]
     },
     "execution_count": 23,
     "metadata": {},
     "output_type": "execute_result"
    }
   ],
   "source": [
    "kissanmigo.agent.run('can you add the wheat species')"
   ]
  },
  {
   "cell_type": "code",
   "execution_count": 24,
   "metadata": {},
   "outputs": [
    {
     "name": "stdout",
     "output_type": "stream",
     "text": [
      "\n",
      "\n",
      "\u001b[1m> Entering new  chain...\u001b[0m\n",
      "\u001b[32;1m\u001b[1;3mAction:\n",
      "```\n",
      "{\n",
      "  \"action\": \"add_variety\",\n",
      "  \"action_input\": {\n",
      "    \"variety_name\": \"test\",\n",
      "    \"species_name\": \"wheat\"\n",
      "  }\n",
      "}\n",
      "```\n",
      "\u001b[0m\n",
      "Observation: \u001b[33;1m\u001b[1;3mNone\u001b[0m\n",
      "Thought:\u001b[32;1m\u001b[1;3m\n",
      "\n",
      "Action:\n",
      "```\n",
      "{\n",
      "  \"action\": \"Final Answer\",\n",
      "  \"action_input\": \"Variety test has been added to the wheat species.\"\n",
      "}\n",
      "```\n",
      "\n",
      "\u001b[0m\n",
      "\n",
      "\u001b[1m> Finished chain.\u001b[0m\n"
     ]
    },
    {
     "data": {
      "text/plain": [
       "'Variety test has been added to the wheat species.'"
      ]
     },
     "execution_count": 24,
     "metadata": {},
     "output_type": "execute_result"
    }
   ],
   "source": [
    "kissanmigo.agent.run('can you add the variety test to the wheat species')"
   ]
  },
  {
   "attachments": {},
   "cell_type": "markdown",
   "metadata": {},
   "source": [
    "<h1>Add a plot season</h1>"
   ]
  },
  {
   "cell_type": "code",
   "execution_count": 5,
   "metadata": {},
   "outputs": [
    {
     "name": "stdout",
     "output_type": "stream",
     "text": [
      "\n",
      "\n",
      "\u001b[1m> Entering new  chain...\u001b[0m\n",
      "\u001b[32;1m\u001b[1;3m\n",
      "Action:\n",
      "```\n",
      "{\n",
      "  \"action\": \"add_plot_season\",\n",
      "  \"action_input\": {\n",
      "    \"start_date\": \"01-01-2022\",\n",
      "    \"end_date\": \"01-01-2023\",\n",
      "    \"variety_name\": \"test\",\n",
      "    \"plot_name\": \"p1\",\n",
      "    \"email\": \"human@example.com\"\n",
      "  }\n",
      "}\n",
      "```\n",
      "\n",
      "\u001b[0m\n",
      "Observation: \u001b[33;1m\u001b[1;3mNone\u001b[0m\n",
      "Thought:\u001b[32;1m\u001b[1;3m\n",
      "\n",
      "Action:\n",
      "```\n",
      "{\n",
      "  \"action\": \"Final Answer\",\n",
      "  \"action_input\": \"I have added a season from 01-01-2022 to 01-01-2023 to plot p1 of variety test owned by human@example.com\"\n",
      "}\n",
      "```\n",
      "\n",
      "\u001b[0m\n",
      "\n",
      "\u001b[1m> Finished chain.\u001b[0m\n"
     ]
    },
    {
     "data": {
      "text/plain": [
       "'I have added a season from 01-01-2022 to 01-01-2023 to plot p1 of variety test owned by human@example.com'"
      ]
     },
     "execution_count": 5,
     "metadata": {},
     "output_type": "execute_result"
    }
   ],
   "source": [
    "kissanmigo.agent.run('add a 01-01-2022 to 01-01-2023 season to p1 of variety test owned by human@example.com')"
   ]
  },
  {
   "cell_type": "code",
   "execution_count": null,
   "metadata": {},
   "outputs": [],
   "source": []
  }
 ],
 "metadata": {
  "kernelspec": {
   "display_name": "kissanmigo_001",
   "language": "python",
   "name": "python3"
  },
  "language_info": {
   "codemirror_mode": {
    "name": "ipython",
    "version": 3
   },
   "file_extension": ".py",
   "mimetype": "text/x-python",
   "name": "python",
   "nbconvert_exporter": "python",
   "pygments_lexer": "ipython3",
   "version": "3.8.9"
  },
  "orig_nbformat": 4
 },
 "nbformat": 4,
 "nbformat_minor": 2
}
